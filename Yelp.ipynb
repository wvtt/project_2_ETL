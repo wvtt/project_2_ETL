{
 "cells": [
  {
   "cell_type": "markdown",
   "id": "4347daf3-f283-4b51-8f73-22675b4cd10f",
   "metadata": {},
   "source": [
    "### Libraries"
   ]
  },
  {
   "cell_type": "code",
   "execution_count": 2,
   "id": "d139035d-b8e5-4571-a439-a31849435d82",
   "metadata": {},
   "outputs": [],
   "source": [
    "import pandas as pd\n",
    "import numpy as np\n",
    "import json\n",
    "import matplotlib.pyplot as plt"
   ]
  },
  {
   "cell_type": "markdown",
   "id": "8780441a-c255-4687-b4a3-dc494590067a",
   "metadata": {
    "jupyter": {
     "outputs_hidden": true
    },
    "tags": []
   },
   "source": [
    "### Reading Dataset"
   ]
  },
  {
   "cell_type": "code",
   "execution_count": 3,
   "id": "4b3c6b72-a62c-446c-8476-d0c9b7d89dd3",
   "metadata": {},
   "outputs": [],
   "source": [
    "def init_ds(json_data):\n",
    "    # This function initializes an empty dictionary and a list of keys\n",
    "    # based on the keys in the input JSON data\n",
    "    dataset = {}\n",
    "    keys = json_data.keys()\n",
    "    for key in keys:\n",
    "        dataset[key] = []\n",
    "    return dataset, keys\n",
    "\n",
    "def read_json(file):\n",
    "    # This function reads a JSON file line by line and appends the values\n",
    "    # to a dictionary with keys based on the first line of the file.\n",
    "    dataset = {}\n",
    "    keys = []\n",
    "    with open(file, encoding='utf-8') as file_lines:\n",
    "        for count, line in enumerate(file_lines):\n",
    "            # Load the JSON data from each line\n",
    "            data = json.loads(line.strip())\n",
    "            if count == 0:\n",
    "                # Initialize the dataset dictionary and keys list\n",
    "                dataset, keys = init_ds(data)\n",
    "            # Append each value to its corresponding key in the dataset dictionary\n",
    "            for key in keys:\n",
    "                dataset[key].append(data[key])\n",
    "        # Convert the dataset dictionary to a pandas DataFrame and return it\n",
    "        return pd.DataFrame(dataset)"
   ]
  },
  {
   "cell_type": "markdown",
   "id": "fdd85506-e4cc-4e76-9be0-6fd57c090c13",
   "metadata": {},
   "source": [
    "For my analysis, I decided to focus on Yelp reviews and business datasets. These datasets contain information about the reviews that users have left for businesses as well as information about the businesses themselves, such as their names, addresses, and categories. By using these two datasets, I was able to gain insights into the performance of businesses, the sentiments of their customers, and how these factors relate to each other. Additionally, these datasets are large and comprehensive, containing millions of records, which allows for in-depth analyses and meaningful conclusions."
   ]
  },
  {
   "cell_type": "code",
   "execution_count": 4,
   "id": "ef89096c-6b18-41b1-8f1a-291f70469f81",
   "metadata": {},
   "outputs": [],
   "source": [
    "yelp_review= read_json('./yelp_datasets/yelp_academic_dataset_review.json')"
   ]
  },
  {
   "cell_type": "code",
   "execution_count": 5,
   "id": "b80d0fa0-8888-4f2a-b6a7-91580934a30a",
   "metadata": {},
   "outputs": [],
   "source": [
    "yelp_business= read_json('./yelp_datasets/yelp_academic_dataset_business.json')"
   ]
  },
  {
   "cell_type": "code",
   "execution_count": 6,
   "id": "d38bf996-5e6d-448b-9aa7-91d0d3308cc9",
   "metadata": {},
   "outputs": [
    {
     "data": {
      "text/html": [
       "<div>\n",
       "<style scoped>\n",
       "    .dataframe tbody tr th:only-of-type {\n",
       "        vertical-align: middle;\n",
       "    }\n",
       "\n",
       "    .dataframe tbody tr th {\n",
       "        vertical-align: top;\n",
       "    }\n",
       "\n",
       "    .dataframe thead th {\n",
       "        text-align: right;\n",
       "    }\n",
       "</style>\n",
       "<table border=\"1\" class=\"dataframe\">\n",
       "  <thead>\n",
       "    <tr style=\"text-align: right;\">\n",
       "      <th></th>\n",
       "      <th>review_id</th>\n",
       "      <th>user_id</th>\n",
       "      <th>business_id</th>\n",
       "      <th>stars</th>\n",
       "      <th>useful</th>\n",
       "      <th>funny</th>\n",
       "      <th>cool</th>\n",
       "      <th>text</th>\n",
       "      <th>date</th>\n",
       "    </tr>\n",
       "  </thead>\n",
       "  <tbody>\n",
       "    <tr>\n",
       "      <th>0</th>\n",
       "      <td>KU_O5udG6zpxOg-VcAEodg</td>\n",
       "      <td>mh_-eMZ6K5RLWhZyISBhwA</td>\n",
       "      <td>XQfwVwDr-v0ZS3_CbbE5Xw</td>\n",
       "      <td>3.0</td>\n",
       "      <td>0</td>\n",
       "      <td>0</td>\n",
       "      <td>0</td>\n",
       "      <td>If you decide to eat here, just be aware it is...</td>\n",
       "      <td>2018-07-07 22:09:11</td>\n",
       "    </tr>\n",
       "    <tr>\n",
       "      <th>1</th>\n",
       "      <td>BiTunyQ73aT9WBnpR9DZGw</td>\n",
       "      <td>OyoGAe7OKpv6SyGZT5g77Q</td>\n",
       "      <td>7ATYjTIgM3jUlt4UM3IypQ</td>\n",
       "      <td>5.0</td>\n",
       "      <td>1</td>\n",
       "      <td>0</td>\n",
       "      <td>1</td>\n",
       "      <td>I've taken a lot of spin classes over the year...</td>\n",
       "      <td>2012-01-03 15:28:18</td>\n",
       "    </tr>\n",
       "    <tr>\n",
       "      <th>2</th>\n",
       "      <td>saUsX_uimxRlCVr67Z4Jig</td>\n",
       "      <td>8g_iMtfSiwikVnbP2etR0A</td>\n",
       "      <td>YjUWPpI6HXG530lwP-fb2A</td>\n",
       "      <td>3.0</td>\n",
       "      <td>0</td>\n",
       "      <td>0</td>\n",
       "      <td>0</td>\n",
       "      <td>Family diner. Had the buffet. Eclectic assortm...</td>\n",
       "      <td>2014-02-05 20:30:30</td>\n",
       "    </tr>\n",
       "    <tr>\n",
       "      <th>3</th>\n",
       "      <td>AqPFMleE6RsU23_auESxiA</td>\n",
       "      <td>_7bHUi9Uuf5__HHc_Q8guQ</td>\n",
       "      <td>kxX2SOes4o-D3ZQBkiMRfA</td>\n",
       "      <td>5.0</td>\n",
       "      <td>1</td>\n",
       "      <td>0</td>\n",
       "      <td>1</td>\n",
       "      <td>Wow!  Yummy, different,  delicious.   Our favo...</td>\n",
       "      <td>2015-01-04 00:01:03</td>\n",
       "    </tr>\n",
       "    <tr>\n",
       "      <th>4</th>\n",
       "      <td>Sx8TMOWLNuJBWer-0pcmoA</td>\n",
       "      <td>bcjbaE6dDog4jkNY91ncLQ</td>\n",
       "      <td>e4Vwtrqf-wpJfwesgvdgxQ</td>\n",
       "      <td>4.0</td>\n",
       "      <td>1</td>\n",
       "      <td>0</td>\n",
       "      <td>1</td>\n",
       "      <td>Cute interior and owner (?) gave us tour of up...</td>\n",
       "      <td>2017-01-14 20:54:15</td>\n",
       "    </tr>\n",
       "  </tbody>\n",
       "</table>\n",
       "</div>"
      ],
      "text/plain": [
       "                review_id                 user_id             business_id  \\\n",
       "0  KU_O5udG6zpxOg-VcAEodg  mh_-eMZ6K5RLWhZyISBhwA  XQfwVwDr-v0ZS3_CbbE5Xw   \n",
       "1  BiTunyQ73aT9WBnpR9DZGw  OyoGAe7OKpv6SyGZT5g77Q  7ATYjTIgM3jUlt4UM3IypQ   \n",
       "2  saUsX_uimxRlCVr67Z4Jig  8g_iMtfSiwikVnbP2etR0A  YjUWPpI6HXG530lwP-fb2A   \n",
       "3  AqPFMleE6RsU23_auESxiA  _7bHUi9Uuf5__HHc_Q8guQ  kxX2SOes4o-D3ZQBkiMRfA   \n",
       "4  Sx8TMOWLNuJBWer-0pcmoA  bcjbaE6dDog4jkNY91ncLQ  e4Vwtrqf-wpJfwesgvdgxQ   \n",
       "\n",
       "   stars  useful  funny  cool  \\\n",
       "0    3.0       0      0     0   \n",
       "1    5.0       1      0     1   \n",
       "2    3.0       0      0     0   \n",
       "3    5.0       1      0     1   \n",
       "4    4.0       1      0     1   \n",
       "\n",
       "                                                text                 date  \n",
       "0  If you decide to eat here, just be aware it is...  2018-07-07 22:09:11  \n",
       "1  I've taken a lot of spin classes over the year...  2012-01-03 15:28:18  \n",
       "2  Family diner. Had the buffet. Eclectic assortm...  2014-02-05 20:30:30  \n",
       "3  Wow!  Yummy, different,  delicious.   Our favo...  2015-01-04 00:01:03  \n",
       "4  Cute interior and owner (?) gave us tour of up...  2017-01-14 20:54:15  "
      ]
     },
     "execution_count": 6,
     "metadata": {},
     "output_type": "execute_result"
    }
   ],
   "source": [
    "yelp_review.head()"
   ]
  },
  {
   "cell_type": "code",
   "execution_count": 10,
   "id": "05022474",
   "metadata": {},
   "outputs": [],
   "source": [
    "yelp_review.to_csv('yelp_review.csv')"
   ]
  },
  {
   "cell_type": "code",
   "execution_count": 14,
   "id": "76551e55-e922-439b-9c34-375eb8f448fd",
   "metadata": {
    "scrolled": true
   },
   "outputs": [
    {
     "data": {
      "text/html": [
       "<div>\n",
       "<style scoped>\n",
       "    .dataframe tbody tr th:only-of-type {\n",
       "        vertical-align: middle;\n",
       "    }\n",
       "\n",
       "    .dataframe tbody tr th {\n",
       "        vertical-align: top;\n",
       "    }\n",
       "\n",
       "    .dataframe thead th {\n",
       "        text-align: right;\n",
       "    }\n",
       "</style>\n",
       "<table border=\"1\" class=\"dataframe\">\n",
       "  <thead>\n",
       "    <tr style=\"text-align: right;\">\n",
       "      <th></th>\n",
       "      <th>business_id</th>\n",
       "      <th>name</th>\n",
       "      <th>address</th>\n",
       "      <th>city</th>\n",
       "      <th>state</th>\n",
       "      <th>postal_code</th>\n",
       "      <th>latitude</th>\n",
       "      <th>longitude</th>\n",
       "      <th>stars</th>\n",
       "      <th>review_count</th>\n",
       "      <th>is_open</th>\n",
       "      <th>attributes</th>\n",
       "      <th>categories</th>\n",
       "      <th>hours</th>\n",
       "    </tr>\n",
       "  </thead>\n",
       "  <tbody>\n",
       "    <tr>\n",
       "      <th>0</th>\n",
       "      <td>Pns2l4eNsfO8kk83dixA6A</td>\n",
       "      <td>Abby Rappoport, LAC, CMQ</td>\n",
       "      <td>1616 Chapala St, Ste 2</td>\n",
       "      <td>Santa Barbara</td>\n",
       "      <td>CA</td>\n",
       "      <td>93101</td>\n",
       "      <td>34.426679</td>\n",
       "      <td>-119.711197</td>\n",
       "      <td>5.0</td>\n",
       "      <td>7</td>\n",
       "      <td>0</td>\n",
       "      <td>{'ByAppointmentOnly': 'True'}</td>\n",
       "      <td>Doctors, Traditional Chinese Medicine, Naturop...</td>\n",
       "      <td>None</td>\n",
       "    </tr>\n",
       "    <tr>\n",
       "      <th>1</th>\n",
       "      <td>mpf3x-BjTdTEA3yCZrAYPw</td>\n",
       "      <td>The UPS Store</td>\n",
       "      <td>87 Grasso Plaza Shopping Center</td>\n",
       "      <td>Affton</td>\n",
       "      <td>MO</td>\n",
       "      <td>63123</td>\n",
       "      <td>38.551126</td>\n",
       "      <td>-90.335695</td>\n",
       "      <td>3.0</td>\n",
       "      <td>15</td>\n",
       "      <td>1</td>\n",
       "      <td>{'BusinessAcceptsCreditCards': 'True'}</td>\n",
       "      <td>Shipping Centers, Local Services, Notaries, Ma...</td>\n",
       "      <td>{'Monday': '0:0-0:0', 'Tuesday': '8:0-18:30', ...</td>\n",
       "    </tr>\n",
       "    <tr>\n",
       "      <th>2</th>\n",
       "      <td>tUFrWirKiKi_TAnsVWINQQ</td>\n",
       "      <td>Target</td>\n",
       "      <td>5255 E Broadway Blvd</td>\n",
       "      <td>Tucson</td>\n",
       "      <td>AZ</td>\n",
       "      <td>85711</td>\n",
       "      <td>32.223236</td>\n",
       "      <td>-110.880452</td>\n",
       "      <td>3.5</td>\n",
       "      <td>22</td>\n",
       "      <td>0</td>\n",
       "      <td>{'BikeParking': 'True', 'BusinessAcceptsCredit...</td>\n",
       "      <td>Department Stores, Shopping, Fashion, Home &amp; G...</td>\n",
       "      <td>{'Monday': '8:0-22:0', 'Tuesday': '8:0-22:0', ...</td>\n",
       "    </tr>\n",
       "    <tr>\n",
       "      <th>3</th>\n",
       "      <td>MTSW4McQd7CbVtyjqoe9mw</td>\n",
       "      <td>St Honore Pastries</td>\n",
       "      <td>935 Race St</td>\n",
       "      <td>Philadelphia</td>\n",
       "      <td>PA</td>\n",
       "      <td>19107</td>\n",
       "      <td>39.955505</td>\n",
       "      <td>-75.155564</td>\n",
       "      <td>4.0</td>\n",
       "      <td>80</td>\n",
       "      <td>1</td>\n",
       "      <td>{'RestaurantsDelivery': 'False', 'OutdoorSeati...</td>\n",
       "      <td>Restaurants, Food, Bubble Tea, Coffee &amp; Tea, B...</td>\n",
       "      <td>{'Monday': '7:0-20:0', 'Tuesday': '7:0-20:0', ...</td>\n",
       "    </tr>\n",
       "    <tr>\n",
       "      <th>4</th>\n",
       "      <td>mWMc6_wTdE0EUBKIGXDVfA</td>\n",
       "      <td>Perkiomen Valley Brewery</td>\n",
       "      <td>101 Walnut St</td>\n",
       "      <td>Green Lane</td>\n",
       "      <td>PA</td>\n",
       "      <td>18054</td>\n",
       "      <td>40.338183</td>\n",
       "      <td>-75.471659</td>\n",
       "      <td>4.5</td>\n",
       "      <td>13</td>\n",
       "      <td>1</td>\n",
       "      <td>{'BusinessAcceptsCreditCards': 'True', 'Wheelc...</td>\n",
       "      <td>Brewpubs, Breweries, Food</td>\n",
       "      <td>{'Wednesday': '14:0-22:0', 'Thursday': '16:0-2...</td>\n",
       "    </tr>\n",
       "  </tbody>\n",
       "</table>\n",
       "</div>"
      ],
      "text/plain": [
       "              business_id                      name  \\\n",
       "0  Pns2l4eNsfO8kk83dixA6A  Abby Rappoport, LAC, CMQ   \n",
       "1  mpf3x-BjTdTEA3yCZrAYPw             The UPS Store   \n",
       "2  tUFrWirKiKi_TAnsVWINQQ                    Target   \n",
       "3  MTSW4McQd7CbVtyjqoe9mw        St Honore Pastries   \n",
       "4  mWMc6_wTdE0EUBKIGXDVfA  Perkiomen Valley Brewery   \n",
       "\n",
       "                           address           city state postal_code  \\\n",
       "0           1616 Chapala St, Ste 2  Santa Barbara    CA       93101   \n",
       "1  87 Grasso Plaza Shopping Center         Affton    MO       63123   \n",
       "2             5255 E Broadway Blvd         Tucson    AZ       85711   \n",
       "3                      935 Race St   Philadelphia    PA       19107   \n",
       "4                    101 Walnut St     Green Lane    PA       18054   \n",
       "\n",
       "    latitude   longitude  stars  review_count  is_open  \\\n",
       "0  34.426679 -119.711197    5.0             7        0   \n",
       "1  38.551126  -90.335695    3.0            15        1   \n",
       "2  32.223236 -110.880452    3.5            22        0   \n",
       "3  39.955505  -75.155564    4.0            80        1   \n",
       "4  40.338183  -75.471659    4.5            13        1   \n",
       "\n",
       "                                          attributes  \\\n",
       "0                      {'ByAppointmentOnly': 'True'}   \n",
       "1             {'BusinessAcceptsCreditCards': 'True'}   \n",
       "2  {'BikeParking': 'True', 'BusinessAcceptsCredit...   \n",
       "3  {'RestaurantsDelivery': 'False', 'OutdoorSeati...   \n",
       "4  {'BusinessAcceptsCreditCards': 'True', 'Wheelc...   \n",
       "\n",
       "                                          categories  \\\n",
       "0  Doctors, Traditional Chinese Medicine, Naturop...   \n",
       "1  Shipping Centers, Local Services, Notaries, Ma...   \n",
       "2  Department Stores, Shopping, Fashion, Home & G...   \n",
       "3  Restaurants, Food, Bubble Tea, Coffee & Tea, B...   \n",
       "4                          Brewpubs, Breweries, Food   \n",
       "\n",
       "                                               hours  \n",
       "0                                               None  \n",
       "1  {'Monday': '0:0-0:0', 'Tuesday': '8:0-18:30', ...  \n",
       "2  {'Monday': '8:0-22:0', 'Tuesday': '8:0-22:0', ...  \n",
       "3  {'Monday': '7:0-20:0', 'Tuesday': '7:0-20:0', ...  \n",
       "4  {'Wednesday': '14:0-22:0', 'Thursday': '16:0-2...  "
      ]
     },
     "execution_count": 14,
     "metadata": {},
     "output_type": "execute_result"
    }
   ],
   "source": [
    "yelp_business.head()"
   ]
  },
  {
   "cell_type": "code",
   "execution_count": null,
   "id": "e2cdf457",
   "metadata": {},
   "outputs": [],
   "source": [
    "yelp_business.to_csv('yelp_business.csv')"
   ]
  },
  {
   "cell_type": "code",
   "execution_count": 9,
   "id": "524aa199-cf8f-4a98-be70-817ff0f954d2",
   "metadata": {},
   "outputs": [
    {
     "data": {
      "text/html": [
       "<div>\n",
       "<style scoped>\n",
       "    .dataframe tbody tr th:only-of-type {\n",
       "        vertical-align: middle;\n",
       "    }\n",
       "\n",
       "    .dataframe tbody tr th {\n",
       "        vertical-align: top;\n",
       "    }\n",
       "\n",
       "    .dataframe thead th {\n",
       "        text-align: right;\n",
       "    }\n",
       "</style>\n",
       "<table border=\"1\" class=\"dataframe\">\n",
       "  <thead>\n",
       "    <tr style=\"text-align: right;\">\n",
       "      <th></th>\n",
       "      <th>latitude</th>\n",
       "      <th>longitude</th>\n",
       "      <th>stars</th>\n",
       "      <th>review_count</th>\n",
       "      <th>is_open</th>\n",
       "    </tr>\n",
       "  </thead>\n",
       "  <tbody>\n",
       "    <tr>\n",
       "      <th>count</th>\n",
       "      <td>150346.000000</td>\n",
       "      <td>150346.000000</td>\n",
       "      <td>150346.000000</td>\n",
       "      <td>150346.000000</td>\n",
       "      <td>150346.00000</td>\n",
       "    </tr>\n",
       "    <tr>\n",
       "      <th>mean</th>\n",
       "      <td>36.671150</td>\n",
       "      <td>-89.357339</td>\n",
       "      <td>3.596724</td>\n",
       "      <td>44.866561</td>\n",
       "      <td>0.79615</td>\n",
       "    </tr>\n",
       "    <tr>\n",
       "      <th>std</th>\n",
       "      <td>5.872759</td>\n",
       "      <td>14.918502</td>\n",
       "      <td>0.974421</td>\n",
       "      <td>121.120136</td>\n",
       "      <td>0.40286</td>\n",
       "    </tr>\n",
       "    <tr>\n",
       "      <th>min</th>\n",
       "      <td>27.555127</td>\n",
       "      <td>-120.095137</td>\n",
       "      <td>1.000000</td>\n",
       "      <td>5.000000</td>\n",
       "      <td>0.00000</td>\n",
       "    </tr>\n",
       "    <tr>\n",
       "      <th>25%</th>\n",
       "      <td>32.187293</td>\n",
       "      <td>-90.357810</td>\n",
       "      <td>3.000000</td>\n",
       "      <td>8.000000</td>\n",
       "      <td>1.00000</td>\n",
       "    </tr>\n",
       "    <tr>\n",
       "      <th>50%</th>\n",
       "      <td>38.777413</td>\n",
       "      <td>-86.121179</td>\n",
       "      <td>3.500000</td>\n",
       "      <td>15.000000</td>\n",
       "      <td>1.00000</td>\n",
       "    </tr>\n",
       "    <tr>\n",
       "      <th>75%</th>\n",
       "      <td>39.954036</td>\n",
       "      <td>-75.421542</td>\n",
       "      <td>4.500000</td>\n",
       "      <td>37.000000</td>\n",
       "      <td>1.00000</td>\n",
       "    </tr>\n",
       "    <tr>\n",
       "      <th>max</th>\n",
       "      <td>53.679197</td>\n",
       "      <td>-73.200457</td>\n",
       "      <td>5.000000</td>\n",
       "      <td>7568.000000</td>\n",
       "      <td>1.00000</td>\n",
       "    </tr>\n",
       "  </tbody>\n",
       "</table>\n",
       "</div>"
      ],
      "text/plain": [
       "            latitude      longitude          stars   review_count  \\\n",
       "count  150346.000000  150346.000000  150346.000000  150346.000000   \n",
       "mean       36.671150     -89.357339       3.596724      44.866561   \n",
       "std         5.872759      14.918502       0.974421     121.120136   \n",
       "min        27.555127    -120.095137       1.000000       5.000000   \n",
       "25%        32.187293     -90.357810       3.000000       8.000000   \n",
       "50%        38.777413     -86.121179       3.500000      15.000000   \n",
       "75%        39.954036     -75.421542       4.500000      37.000000   \n",
       "max        53.679197     -73.200457       5.000000    7568.000000   \n",
       "\n",
       "            is_open  \n",
       "count  150346.00000  \n",
       "mean        0.79615  \n",
       "std         0.40286  \n",
       "min         0.00000  \n",
       "25%         1.00000  \n",
       "50%         1.00000  \n",
       "75%         1.00000  \n",
       "max         1.00000  "
      ]
     },
     "execution_count": 9,
     "metadata": {},
     "output_type": "execute_result"
    }
   ],
   "source": [
    "yelp_business.describe()"
   ]
  },
  {
   "cell_type": "code",
   "execution_count": 10,
   "id": "eef754de-062b-4af6-9b0c-2573c0d962e3",
   "metadata": {},
   "outputs": [
    {
     "data": {
      "text/html": [
       "<div>\n",
       "<style scoped>\n",
       "    .dataframe tbody tr th:only-of-type {\n",
       "        vertical-align: middle;\n",
       "    }\n",
       "\n",
       "    .dataframe tbody tr th {\n",
       "        vertical-align: top;\n",
       "    }\n",
       "\n",
       "    .dataframe thead th {\n",
       "        text-align: right;\n",
       "    }\n",
       "</style>\n",
       "<table border=\"1\" class=\"dataframe\">\n",
       "  <thead>\n",
       "    <tr style=\"text-align: right;\">\n",
       "      <th></th>\n",
       "      <th>stars</th>\n",
       "      <th>useful</th>\n",
       "      <th>funny</th>\n",
       "      <th>cool</th>\n",
       "    </tr>\n",
       "  </thead>\n",
       "  <tbody>\n",
       "    <tr>\n",
       "      <th>count</th>\n",
       "      <td>6.990280e+06</td>\n",
       "      <td>6.990280e+06</td>\n",
       "      <td>6.990280e+06</td>\n",
       "      <td>6.990280e+06</td>\n",
       "    </tr>\n",
       "    <tr>\n",
       "      <th>mean</th>\n",
       "      <td>3.748584e+00</td>\n",
       "      <td>1.184609e+00</td>\n",
       "      <td>3.265596e-01</td>\n",
       "      <td>4.986175e-01</td>\n",
       "    </tr>\n",
       "    <tr>\n",
       "      <th>std</th>\n",
       "      <td>1.478705e+00</td>\n",
       "      <td>3.253767e+00</td>\n",
       "      <td>1.688729e+00</td>\n",
       "      <td>2.172460e+00</td>\n",
       "    </tr>\n",
       "    <tr>\n",
       "      <th>min</th>\n",
       "      <td>1.000000e+00</td>\n",
       "      <td>-1.000000e+00</td>\n",
       "      <td>-1.000000e+00</td>\n",
       "      <td>-1.000000e+00</td>\n",
       "    </tr>\n",
       "    <tr>\n",
       "      <th>25%</th>\n",
       "      <td>3.000000e+00</td>\n",
       "      <td>0.000000e+00</td>\n",
       "      <td>0.000000e+00</td>\n",
       "      <td>0.000000e+00</td>\n",
       "    </tr>\n",
       "    <tr>\n",
       "      <th>50%</th>\n",
       "      <td>4.000000e+00</td>\n",
       "      <td>0.000000e+00</td>\n",
       "      <td>0.000000e+00</td>\n",
       "      <td>0.000000e+00</td>\n",
       "    </tr>\n",
       "    <tr>\n",
       "      <th>75%</th>\n",
       "      <td>5.000000e+00</td>\n",
       "      <td>1.000000e+00</td>\n",
       "      <td>0.000000e+00</td>\n",
       "      <td>0.000000e+00</td>\n",
       "    </tr>\n",
       "    <tr>\n",
       "      <th>max</th>\n",
       "      <td>5.000000e+00</td>\n",
       "      <td>1.182000e+03</td>\n",
       "      <td>7.920000e+02</td>\n",
       "      <td>4.040000e+02</td>\n",
       "    </tr>\n",
       "  </tbody>\n",
       "</table>\n",
       "</div>"
      ],
      "text/plain": [
       "              stars        useful         funny          cool\n",
       "count  6.990280e+06  6.990280e+06  6.990280e+06  6.990280e+06\n",
       "mean   3.748584e+00  1.184609e+00  3.265596e-01  4.986175e-01\n",
       "std    1.478705e+00  3.253767e+00  1.688729e+00  2.172460e+00\n",
       "min    1.000000e+00 -1.000000e+00 -1.000000e+00 -1.000000e+00\n",
       "25%    3.000000e+00  0.000000e+00  0.000000e+00  0.000000e+00\n",
       "50%    4.000000e+00  0.000000e+00  0.000000e+00  0.000000e+00\n",
       "75%    5.000000e+00  1.000000e+00  0.000000e+00  0.000000e+00\n",
       "max    5.000000e+00  1.182000e+03  7.920000e+02  4.040000e+02"
      ]
     },
     "execution_count": 10,
     "metadata": {},
     "output_type": "execute_result"
    }
   ],
   "source": [
    "yelp_review.describe()"
   ]
  },
  {
   "cell_type": "markdown",
   "id": "34e73d2f-136d-440d-91e8-ea56971ec6df",
   "metadata": {},
   "source": [
    "### An overview of the reviews"
   ]
  },
  {
   "cell_type": "code",
   "execution_count": 11,
   "id": "d3f63309-319f-464b-af12-bfc484bb6d91",
   "metadata": {},
   "outputs": [
    {
     "name": "stdout",
     "output_type": "stream",
     "text": [
      "Total reviews: 6990280\n",
      "Useful reviews: 3149784\n",
      "Funny reviews: 1096161\n",
      "Cool reviews: 1612315\n",
      "Total negative reviews: 1069561\n",
      "Total positive reviews: 4684545\n"
     ]
    }
   ],
   "source": [
    "useful_reviews = len(yelp_review[yelp_review[\"useful\"]>0])\n",
    "cool_reviews = len(yelp_review[yelp_review[\"cool\"]>0])\n",
    "funny_reviews = len(yelp_review[yelp_review[\"funny\"]>0])\n",
    "negative_reviws = len(yelp_review[yelp_review[\"stars\"]<2])\n",
    "positive_reviews =len(yelp_review[yelp_review[\"stars\"]>3])\n",
    "total_reviews = len(yelp_review)\n",
    "\n",
    "print(\"Total reviews: {}\".format(total_reviews))\n",
    "print(\"Useful reviews: {}\".format(useful_reviews))\n",
    "print(\"Funny reviews: {}\".format(funny_reviews))\n",
    "print(\"Cool reviews: {}\".format(cool_reviews))\n",
    "print(\"Total negative reviews: {}\".format(negative_reviws))\n",
    "print(\"Total positive reviews: {}\".format(positive_reviews))"
   ]
  },
  {
   "cell_type": "markdown",
   "id": "47b8987f-bb90-409e-b8b3-978df8418638",
   "metadata": {},
   "source": [
    "### Top reviewed business"
   ]
  },
  {
   "cell_type": "code",
   "execution_count": 12,
   "id": "bb18a99e-4f37-4eb1-9ac4-dcb2ec1f4ea5",
   "metadata": {},
   "outputs": [],
   "source": [
    "#Filter out reviews with ratings less than or equal to 3 from yelp_review DataFrame\n",
    "top_reviewed = yelp_review[yelp_review[\"stars\"]>3]\n",
    "\n",
    "#Create an empty dictionary to store business ids as keys and the number of times they are reviewed as values\n",
    "top_reviews_dict = {}\n",
    "\n",
    "#Iterate over the business ids in top_reviewed DataFrame\n",
    "for business_id in top_reviewed[\"business_id\"].values:\n",
    "    try :\n",
    "        # Increment the value of the key if it already exists in the dictionary\n",
    "        top_reviews_dict[business_id] = top_reviews_dict[business_id]+1\n",
    "    except:\n",
    "        # Add the key to the dictionary with value 1 if it does not exist\n",
    "        top_reviews_dict[business_id] = 1\n",
    "\n",
    "#Convert the dictionary into a DataFrame with business ids as index\n",
    "topbusiness = pd.DataFrame.from_dict(data= top_reviews_dict,orient = \"index\")\n",
    "\n",
    "#Reset the index to add a column for business ids\n",
    "topbusiness.reset_index(inplace = True)\n",
    "\n",
    "#Rename the columns to 'business_id' and 'rated'\n",
    "topbusiness.columns = ['business_id', 'rated']\n",
    "\n",
    "#Remove the dictionary and DataFrame objects from the memory\n",
    "del(top_reviews_dict)\n",
    "del(top_reviewed)"
   ]
  },
  {
   "cell_type": "code",
   "execution_count": 13,
   "id": "89b477ce-4ee8-4959-91e1-575ec7e7a253",
   "metadata": {},
   "outputs": [
    {
     "data": {
      "image/png": "[encoded data removed]",
      "text/plain": [
       "<Figure size 1400x600 with 1 Axes>"
      ]
     },
     "metadata": {},
     "output_type": "display_data"
    }
   ],
   "source": [
    "top_count = 10\n",
    "right = pd.DataFrame(yelp_business[['business_id',\"name\",\"categories\"]].values,\n",
    "                    columns = ['business_id',\"Business name\",\"categories\"])\n",
    "\n",
    "top_business_data = pd.merge(topbusiness, right = right, how = \"inner\", on = 'business_id')\n",
    "top_business_data.sort_values(\"rated\")[::-1][:top_count].plot(x = \"Business name\",y = \"rated\", \n",
    "                                                   kind = \"bar\", figsize=(14,6),\n",
    "                                                   title = 'Positive reviews').set_ylabel(\"Total ratings\")\n",
    "\n",
    "del(topbusiness)\n",
    "del(right)"
   ]
  },
  {
   "cell_type": "markdown",
   "id": "351dcefb-f686-4e7f-8510-0d400f07adad",
   "metadata": {},
   "source": [
    "The top 3 businesses in the dataset are Ocean Grill, Acme Oyster House, and Hattie B's Hot Chicken. It's important to note that this finding is specific to the dataset I am working with and may not reflect the actual top businesses in the industry. Additionally, the criteria for determining \"top\" businesses may vary depending on factors such as ratings, number of reviews, or revenue."
   ]
  },
  {
   "cell_type": "markdown",
   "id": "e949cb83-0601-4431-9eb6-441bd9a480c9",
   "metadata": {},
   "source": [
    "### Locations of top reviewed businesses"
   ]
  },
  {
   "cell_type": "code",
   "execution_count": 14,
   "id": "fe3cb12f-f0d7-4ecf-976b-d6caab4006c7",
   "metadata": {},
   "outputs": [
    {
     "data": {
      "text/plain": [
       "300"
      ]
     },
     "execution_count": 14,
     "metadata": {},
     "output_type": "execute_result"
    }
   ],
   "source": [
    "# Select the top 300 rated businesses based on the 'rated' column of 'top_business_data'\n",
    "num_business = 300\n",
    "business_ids = top_business_data.sort_values(\"rated\")[::-1][:num_business].business_id.values\n",
    "\n",
    "# Select only the businesses with business IDs in the list of top 300 businesses\n",
    "useful_b = yelp_business.loc[yelp_business['business_id'].isin(business_ids)]\n",
    "\n",
    "# Print the number of businesses selected\n",
    "len(useful_b)"
   ]
  },
  {
   "cell_type": "markdown",
   "id": "48acf649-29a9-4635-8eff-cdb56eddd72e",
   "metadata": {},
   "source": [
    "### Categories of top reviewed businesses"
   ]
  },
  {
   "cell_type": "code",
   "execution_count": 15,
   "id": "ebd49c63-798a-4939-b273-63579f7cf220",
   "metadata": {},
   "outputs": [
    {
     "data": {
      "image/png": "[encoded data removed]",
      "text/plain": [
       "<Figure size 1000x1000 with 1 Axes>"
      ]
     },
     "metadata": {},
     "output_type": "display_data"
    }
   ],
   "source": [
    "# set the number of categories and top businesses to show\n",
    "num_cat = 5\n",
    "top_business = 30\n",
    "\n",
    "# sort the businesses by rating and select the top ones\n",
    "cat_data = top_business_data.sort_values(\"rated\")[::-1][:top_business]\n",
    "\n",
    "# create a dictionary to store the categories and their occurrences\n",
    "Categories = {}\n",
    "for cat in cat_data.categories.values:\n",
    "    all_categories = cat.split(\",\")\n",
    "    for x in all_categories:\n",
    "        try:\n",
    "            Categories[x] = Categories[x] + 1\n",
    "        except:\n",
    "            Categories[x] = 1\n",
    "\n",
    "# convert the dictionary to a dataframe and reset the index\n",
    "top_categories = pd.DataFrame.from_dict(data=Categories, orient = \"index\")\n",
    "top_categories.reset_index(inplace = True)\n",
    "top_categories.columns = ['category', 'occurance']\n",
    "\n",
    "# sort the categories by occurrence and select the top ones\n",
    "x_val = top_categories.sort_values(\"occurance\")[::-1][:num_cat].occurance.values\n",
    "labels = top_categories.sort_values(\"occurance\")[::-1][:num_cat].category.values\n",
    "\n",
    "# create a pie chart to display the top categories\n",
    "series = pd.Series(x_val, index = labels, name = 'Top business types')\n",
    "series.plot.pie(figsize = (10, 10), startangle = 90)\n",
    "plt.show()"
   ]
  },
  {
   "cell_type": "markdown",
   "id": "45c633ae-e1ed-4c52-b54f-6f3627e612ad",
   "metadata": {},
   "source": [
    "### Business categories that need improvement"
   ]
  },
  {
   "cell_type": "markdown",
   "id": "ff2f224a-becb-4825-89ee-377e0ac8d8fd",
   "metadata": {},
   "source": [
    "Businesses that receive negative reviews in certain categories should consider improving their services to attract and retain customers. On the other hand, potential competitors can use this information to identify areas where they could potentially start new businesses nearby."
   ]
  },
  {
   "cell_type": "code",
   "execution_count": 16,
   "id": "f44dd25c-e4ac-4450-86d0-181c8f95ae61",
   "metadata": {},
   "outputs": [],
   "source": [
    "bottom_reviewed = yelp_review[yelp_review[\"stars\"]<2]\n",
    "bottom_reviews_dict = {} \n",
    "\n",
    "for business_id in bottom_reviewed[\"business_id\"].values:\n",
    "    try :\n",
    "        bottom_reviews_dict[business_id] = bottom_reviews_dict[business_id]+1\n",
    "    except:\n",
    "        bottom_reviews_dict[business_id] = 1\n",
    "        \n",
    "bottombusiness = pd.DataFrame.from_dict(data = bottom_reviews_dict,orient = \"index\")\n",
    "\n",
    "bottombusiness.reset_index(inplace = True)\n",
    "#bottombusiness.head()\n",
    "bottombusiness.columns = ['business_id', 'rated']"
   ]
  },
  {
   "cell_type": "code",
   "execution_count": 17,
   "id": "18d4dc0e-5c2b-46f1-a64a-eabab0d8cab2",
   "metadata": {},
   "outputs": [],
   "source": [
    "top_count = 20\n",
    "right = pd.DataFrame(yelp_business[['business_id',\"name\",\"categories\"]].values,\n",
    "                    columns = ['business_id',\"Business name\",\"categories\"])\n",
    "\n",
    "bottom_business_data = pd.merge(bottombusiness,right=right, how=\"inner\",on = 'business_id')"
   ]
  },
  {
   "cell_type": "code",
   "execution_count": 18,
   "id": "f4010046-700d-4da7-a6dd-8380e483dfec",
   "metadata": {},
   "outputs": [
    {
     "data": {
      "text/plain": [
       "<Axes: ylabel='Categories'>"
      ]
     },
     "execution_count": 18,
     "metadata": {},
     "output_type": "execute_result"
    },
    {
     "data": {
      "image/png": "[encoded data removed]",
      "text/plain": [
       "<Figure size 1000x1000 with 1 Axes>"
      ]
     },
     "metadata": {},
     "output_type": "display_data"
    }
   ],
   "source": [
    "# Set the number of categories to display in the pie chart\n",
    "num_cat = 5\n",
    "\n",
    "# Set the number of bottom businesses to consider\n",
    "bottom_business = 30\n",
    "\n",
    "# Get the data for the bottom businesses based on the ratings\n",
    "cat_data = bottom_business_data.sort_values(\"rated\")[::-1][:bottom_business]\n",
    "\n",
    "# Create an empty dictionary to hold the categories and their occurrence counts\n",
    "Categories = {}\n",
    "\n",
    "# Iterate through the categories of each business and count the occurrences of each category\n",
    "for cat in cat_data.categories.values:\n",
    "    all_categories = cat.split(\",\")\n",
    "    for x in all_categories:\n",
    "        try :\n",
    "            Categories[x] = Categories[x] + 1\n",
    "        except:\n",
    "            Categories[x] = 1\n",
    "\n",
    "# Convert the dictionary to a pandas DataFrame\n",
    "bottom_categories = pd.DataFrame.from_dict(data=Categories, orient=\"index\")\n",
    "bottom_categories.reset_index(inplace = True)\n",
    "bottom_categories.columns = ['category', 'occurance']\n",
    "\n",
    "# Get the values and labels for the top categories to be displayed in the pie chart\n",
    "x_val = bottom_categories.sort_values(\"occurance\")[::-1][:num_cat].occurance.values\n",
    "labels = bottom_categories.sort_values(\"occurance\")[::-1][:num_cat].category.values\n",
    "\n",
    "# Create a pandas Series with the values and labels, and plot a pie chart\n",
    "series = pd.Series(x_val, index = labels, name = 'Categories')\n",
    "series.plot.pie(figsize = (10, 10), startangle = 90)"
   ]
  }
 ],
 "metadata": {
  "kernelspec": {
   "display_name": "Python 3 (ipykernel)",
   "language": "python",
   "name": "python3"
  },
  "language_info": {
   "codemirror_mode": {
    "name": "ipython",
    "version": 3
   },
   "file_extension": ".py",
   "mimetype": "text/x-python",
   "name": "python",
   "nbconvert_exporter": "python",
   "pygments_lexer": "ipython3",
   "version": "3.9.13"
  }
 },
 "nbformat": 4,
 "nbformat_minor": 5
}
